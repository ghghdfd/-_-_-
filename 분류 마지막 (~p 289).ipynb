{
 "cells": [
  {
   "cell_type": "markdown",
   "metadata": {},
   "source": [
    "### 기본 스태킹 모델"
   ]
  },
  {
   "cell_type": "code",
   "execution_count": null,
   "metadata": {},
   "outputs": [],
   "source": []
  },
  {
   "cell_type": "code",
   "execution_count": 1,
   "metadata": {},
   "outputs": [
    {
     "name": "stderr",
     "output_type": "stream",
     "text": [
      "C:\\Users\\gommg\\Anaconda3\\lib\\importlib\\_bootstrap.py:219: RuntimeWarning: numpy.ufunc size changed, may indicate binary incompatibility. Expected 192 from C header, got 216 from PyObject\n",
      "  return f(*args, **kwds)\n",
      "C:\\Users\\gommg\\Anaconda3\\lib\\importlib\\_bootstrap.py:219: RuntimeWarning: numpy.ufunc size changed, may indicate binary incompatibility. Expected 192 from C header, got 216 from PyObject\n",
      "  return f(*args, **kwds)\n"
     ]
    }
   ],
   "source": [
    "import pandas as pd\n",
    "import numpy as np\n",
    "\n",
    "from sklearn.neighbors import KNeighborsClassifier\n",
    "from sklearn.ensemble import RandomForestClassifier\n",
    "from sklearn.ensemble import AdaBoostClassifier\n",
    "from sklearn.tree import DecisionTreeClassifier\n",
    "from sklearn.linear_model import LogisticRegression\n",
    "\n",
    "from sklearn.datasets import load_breast_cancer\n",
    "from sklearn.model_selection import train_test_split\n",
    "from sklearn.metrics import accuracy_score\n",
    "\n",
    "data=load_breast_cancer()"
   ]
  },
  {
   "cell_type": "code",
   "execution_count": 3,
   "metadata": {},
   "outputs": [],
   "source": [
    "X_data=data.data\n",
    "y_data=data.target\n",
    "\n",
    "X_train,X_test,y_train,y_test=train_test_split(X_data,y_data,test_size=0.2,random_state=1)"
   ]
  },
  {
   "cell_type": "code",
   "execution_count": 5,
   "metadata": {},
   "outputs": [],
   "source": [
    "#개별 분류 모델 설정\n",
    "knn_clf=KNeighborsClassifier(n_neighbors=4)\n",
    "rf_clf=RandomForestClassifier(n_estimators=100,random_state=1)\n",
    "dt_clf=DecisionTreeClassifier()\n",
    "ada_clf=AdaBoostClassifier(n_estimators=100)\n",
    "\n",
    "#스태킹으로 만든 데이터를 학습,최종 예측할 모델\n",
    "lr_final=LogisticRegression(C=10)"
   ]
  },
  {
   "cell_type": "code",
   "execution_count": 6,
   "metadata": {},
   "outputs": [
    {
     "data": {
      "text/plain": [
       "AdaBoostClassifier(algorithm='SAMME.R', base_estimator=None, learning_rate=1.0,\n",
       "                   n_estimators=100, random_state=None)"
      ]
     },
     "execution_count": 6,
     "metadata": {},
     "output_type": "execute_result"
    }
   ],
   "source": [
    "#개별 모델 학습\n",
    "knn_clf.fit(X_train,y_train)\n",
    "rf_clf.fit(X_train,y_train)\n",
    "dt_clf.fit(X_train,y_train)\n",
    "ada_clf.fit(X_train,y_train)"
   ]
  },
  {
   "cell_type": "code",
   "execution_count": 9,
   "metadata": {},
   "outputs": [
    {
     "name": "stdout",
     "output_type": "stream",
     "text": [
      "knn: 0.9035087719298246\n",
      "rf: 0.956140350877193\n",
      "dt: 0.956140350877193\n",
      "ada: 0.9473684210526315\n"
     ]
    }
   ],
   "source": [
    "knn_pred=knn_clf.predict(X_test)\n",
    "rf_pred=rf_clf.predict(X_test)\n",
    "dt_pred=dt_clf.predict(X_test)\n",
    "ada_pred=ada_clf.predict(X_test)\n",
    "\n",
    "print(f'knn: {accuracy_score(y_test,knn_pred)}')\n",
    "print(f'rf: {accuracy_score(y_test,rf_pred)}')\n",
    "print(f'dt: {accuracy_score(y_test,dt_pred)}')\n",
    "print(f'ada: {accuracy_score(y_test,ada_pred)}')"
   ]
  },
  {
   "cell_type": "markdown",
   "metadata": {},
   "source": [
    "#### 개별 알고리즘의 예측값을 칼럼 레벨로 옆으로 붙여 피쳐 값으로 만들어 최종 모            델인 로지스틱 회귀에서 학습 데이터로 다시 사용한다."
   ]
  },
  {
   "cell_type": "code",
   "execution_count": 11,
   "metadata": {},
   "outputs": [
    {
     "name": "stdout",
     "output_type": "stream",
     "text": [
      "(4, 114)\n",
      "(114, 4)\n"
     ]
    }
   ],
   "source": [
    "pred=np.array([knn_pred,rf_pred,dt_pred,ada_pred])\n",
    "print(pred.shape)\n",
    "\n",
    "#tranpose해서 전치\n",
    "pred=np.transpose(pred)\n",
    "print(pred.shape)"
   ]
  },
  {
   "cell_type": "code",
   "execution_count": 12,
   "metadata": {},
   "outputs": [
    {
     "name": "stdout",
     "output_type": "stream",
     "text": [
      "final: 0.9736842105263158\n"
     ]
    }
   ],
   "source": [
    "lr_final.fit(pred,y_test)\n",
    "final=lr_final.predict(pred)\n",
    "\n",
    "print(f'final: {accuracy_score(y_test,final)}')"
   ]
  },
  {
   "cell_type": "code",
   "execution_count": null,
   "metadata": {},
   "outputs": [],
   "source": []
  },
  {
   "cell_type": "code",
   "execution_count": null,
   "metadata": {},
   "outputs": [],
   "source": []
  },
  {
   "cell_type": "markdown",
   "metadata": {},
   "source": [
    "### CV기반 스태킹"
   ]
  },
  {
   "cell_type": "code",
   "execution_count": null,
   "metadata": {},
   "outputs": [],
   "source": []
  }
 ],
 "metadata": {
  "kernelspec": {
   "display_name": "Python 3",
   "language": "python",
   "name": "python3"
  },
  "language_info": {
   "codemirror_mode": {
    "name": "ipython",
    "version": 3
   },
   "file_extension": ".py",
   "mimetype": "text/x-python",
   "name": "python",
   "nbconvert_exporter": "python",
   "pygments_lexer": "ipython3",
   "version": "3.7.6"
  }
 },
 "nbformat": 4,
 "nbformat_minor": 4
}
