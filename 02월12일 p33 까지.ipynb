{
 "cells": [
  {
   "cell_type": "markdown",
   "metadata": {},
   "source": [
    "numpy기초"
   ]
  },
  {
   "cell_type": "code",
   "execution_count": 1,
   "metadata": {},
   "outputs": [],
   "source": [
    "import numpy as np"
   ]
  },
  {
   "cell_type": "code",
   "execution_count": 5,
   "metadata": {},
   "outputs": [
    {
     "name": "stdout",
     "output_type": "stream",
     "text": [
      "a1 type: <class 'numpy.ndarray'>\n",
      "a1 shape: (3,)\n",
      "a2 type: <class 'numpy.ndarray'>\n",
      "a2 shape: (2, 3)\n",
      "a3 type: <class 'numpy.ndarray'>\n",
      "a3 shape: (1, 3)\n"
     ]
    }
   ],
   "source": [
    "a1=np.array([1,2,3])\n",
    "print('a1 type:',type(a1))\n",
    "print('a1 shape:',a1.shape)\n",
    "\n",
    "a2=np.array([[1,2,3],[4,5,6]])\n",
    "print('a2 type:',type(a2))\n",
    "print('a2 shape:',a2.shape)\n",
    "\n",
    "a3=np.array([[1,2,3]])\n",
    "print('a3 type:',type(a3))\n",
    "print('a3 shape:',a3.shape)"
   ]
  },
  {
   "cell_type": "code",
   "execution_count": 13,
   "metadata": {},
   "outputs": [
    {
     "name": "stdout",
     "output_type": "stream",
     "text": [
      "a1 1차원 a2 2차원 a3 2차원\n"
     ]
    }
   ],
   "source": [
    "print(f'a1 {a1.ndim}차원 a2 {a2.ndim}차원 a3 {a3.ndim}차원')"
   ]
  },
  {
   "cell_type": "code",
   "execution_count": 18,
   "metadata": {},
   "outputs": [
    {
     "name": "stdout",
     "output_type": "stream",
     "text": [
      "<class 'list'>\n",
      "<class 'numpy.ndarray'>\n",
      "[1 2 3] int32\n"
     ]
    }
   ],
   "source": [
    "#ndarray의 데이터 타입\n",
    "\n",
    "list1=[1,2,3]\n",
    "print(type(list1))\n",
    "a1=np.array(list1)\n",
    "print(type(a1))\n",
    "print(a1,a1.dtype)\n",
    "\n"
   ]
  },
  {
   "cell_type": "code",
   "execution_count": 20,
   "metadata": {},
   "outputs": [
    {
     "name": "stdout",
     "output_type": "stream",
     "text": [
      "<class 'list'>\n",
      "<class 'numpy.ndarray'>\n",
      "['1' '2' 'test'] <U11\n",
      "<class 'list'>\n",
      "<class 'numpy.ndarray'>\n",
      "[1. 2. 3.] float64\n"
     ]
    }
   ],
   "source": [
    "list2=[1,2,'test']\n",
    "print(type(list2))\n",
    "a2=np.array(list2)\n",
    "print(type(a2))\n",
    "print(a2,a2.dtype)\n",
    "\n",
    "list3=[1,2,3.0]\n",
    "print(type(list3))\n",
    "a3=np.array(list3)\n",
    "print(type(a3))\n",
    "print(a3,a3.dtype)"
   ]
  },
  {
   "cell_type": "code",
   "execution_count": 24,
   "metadata": {},
   "outputs": [
    {
     "name": "stdout",
     "output_type": "stream",
     "text": [
      "[1. 2. 3.] float64\n",
      "[1 2 3] int32\n",
      "[1 2 3] int32\n"
     ]
    }
   ],
   "source": [
    "#astype 메서드\n",
    "\n",
    "a_int=np.array([1,2,3])\n",
    "a_float=a_int.astype('float64')\n",
    "print(a_float,a_float.dtype)\n",
    "\n",
    "a_int1=a_float.astype('int32')\n",
    "print(a_int1,a_int1.dtype)\n",
    "\n",
    "a_float1=np.array([1.1,2.1,3.1])\n",
    "a_int2=a_float1.astype('int32')\n",
    "print(a_int2,a_int2.dtype)"
   ]
  },
  {
   "cell_type": "code",
   "execution_count": 26,
   "metadata": {},
   "outputs": [
    {
     "name": "stdout",
     "output_type": "stream",
     "text": [
      "[0 1 2 3 4 5 6 7 8 9]\n",
      "(10,)\n"
     ]
    }
   ],
   "source": [
    "#ndarray 편리하게 생성하기 \n",
    "\n",
    "seq_array=np.arange(10)\n",
    "print(seq_array)\n",
    "print(seq_array.shape)"
   ]
  },
  {
   "cell_type": "code",
   "execution_count": 32,
   "metadata": {},
   "outputs": [
    {
     "name": "stdout",
     "output_type": "stream",
     "text": [
      "[[0 0]\n",
      " [0 0]\n",
      " [0 0]]\n",
      "(3, 2)\n",
      "[[1. 1.]\n",
      " [1. 1.]\n",
      " [1. 1.]]\n",
      "(3, 2)\n"
     ]
    }
   ],
   "source": [
    "zero_array=np.zeros((3,2),dtype='int32')\n",
    "print(zero_array)\n",
    "print(zero_array.shape)\n",
    "\n",
    "one_array=np.ones((3,2))\n",
    "print(one_array)\n",
    "print(one_array.shape)"
   ]
  },
  {
   "cell_type": "code",
   "execution_count": null,
   "metadata": {},
   "outputs": [],
   "source": []
  },
  {
   "cell_type": "code",
   "execution_count": null,
   "metadata": {},
   "outputs": [],
   "source": []
  },
  {
   "cell_type": "code",
   "execution_count": null,
   "metadata": {},
   "outputs": [],
   "source": []
  },
  {
   "cell_type": "markdown",
   "metadata": {},
   "source": [
    "reshape"
   ]
  },
  {
   "cell_type": "code",
   "execution_count": 36,
   "metadata": {},
   "outputs": [
    {
     "name": "stdout",
     "output_type": "stream",
     "text": [
      "a1:\n",
      " [0 1 2 3 4 5 6 7 8 9]\n",
      "a2:\n",
      " [[0 1 2 3 4]\n",
      " [5 6 7 8 9]]\n",
      "a3:\n",
      " [[0 1]\n",
      " [2 3]\n",
      " [4 5]\n",
      " [6 7]\n",
      " [8 9]]\n"
     ]
    }
   ],
   "source": [
    "a1=np.arange(10)\n",
    "print('a1:\\n',a1)\n",
    "\n",
    "a2=a1.reshape(2,5)\n",
    "print('a2:\\n',a2)\n",
    "\n",
    "a3=a1.reshape(5,2)\n",
    "print('a3:\\n',a3)"
   ]
  },
  {
   "cell_type": "code",
   "execution_count": 38,
   "metadata": {},
   "outputs": [
    {
     "name": "stdout",
     "output_type": "stream",
     "text": [
      "[0 1 2 3 4 5 6 7 8 9]\n",
      "(2, 5)\n",
      "(5, 2)\n"
     ]
    }
   ],
   "source": [
    "#-1 인자를 사용하면 편리하다\n",
    "\n",
    "a1=np.arange(10)\n",
    "print(a1)\n",
    "\n",
    "a2=a1.reshape(-1,5)\n",
    "print(a2.shape)\n",
    "\n",
    "a3=a1.reshape(5,-1)\n",
    "print(a3.shape)"
   ]
  },
  {
   "cell_type": "code",
   "execution_count": 49,
   "metadata": {},
   "outputs": [
    {
     "name": "stdout",
     "output_type": "stream",
     "text": [
      "a1:\n",
      " [[[0, 1], [2, 3]], [[4, 5], [6, 7]]]\n",
      "a2:\n",
      " [[0], [1], [2], [3], [4], [5], [6], [7]]\n",
      "(8, 1)\n",
      "a3:\n",
      " [[0], [1], [2], [3], [4], [5], [6], [7]]\n",
      "(8, 1)\n"
     ]
    }
   ],
   "source": [
    "#-1 인자는 reshape(-1,1) 형태로 자주 사용된다. \n",
    "# 어떤 형태던 2차원의 반드시 1개의 열을 가지는 ndarray로 반환됨을 의미\n",
    "#tolist 메서드로 리스트 자료형으로 변환이 가능하다.\n",
    "\n",
    "a1=np.arange(8)\n",
    "a1_3d=a1.reshape(2,2,2)\n",
    "print('a1:\\n',a1_3d.tolist())\n",
    "\n",
    "#3차원 array를 2차원 array로 변환\n",
    "a2=a1_3d.reshape(-1,1)\n",
    "print('a2:\\n',a2.tolist())\n",
    "print(a2.shape)\n",
    "\n",
    "#1차원 array를 2차원 array로 변환\n",
    "a3=a1.reshape(-1,1)\n",
    "print('a3:\\n',a3.tolist())\n",
    "print(a3.shape)"
   ]
  },
  {
   "cell_type": "code",
   "execution_count": null,
   "metadata": {},
   "outputs": [],
   "source": []
  },
  {
   "cell_type": "code",
   "execution_count": null,
   "metadata": {},
   "outputs": [],
   "source": []
  },
  {
   "cell_type": "markdown",
   "metadata": {},
   "source": [
    "데이터 세트 선택하기 - 인덱싱"
   ]
  },
  {
   "cell_type": "code",
   "execution_count": 50,
   "metadata": {},
   "outputs": [
    {
     "name": "stdout",
     "output_type": "stream",
     "text": [
      "a1:\n",
      " [1 2 3 4 5 6 7 8 9]\n"
     ]
    }
   ],
   "source": [
    "#단일 값 추출\n",
    "a1=np.arange(1,10)\n",
    "print('a1:\\n',a1)"
   ]
  },
  {
   "cell_type": "code",
   "execution_count": 51,
   "metadata": {},
   "outputs": [
    {
     "name": "stdout",
     "output_type": "stream",
     "text": [
      "3\n"
     ]
    }
   ],
   "source": [
    "value=a1[2]\n",
    "print(value)"
   ]
  },
  {
   "cell_type": "code",
   "execution_count": 59,
   "metadata": {},
   "outputs": [
    {
     "name": "stdout",
     "output_type": "stream",
     "text": [
      "a2:\n",
      " [[1 2 3]\n",
      " [4 5 6]\n",
      " [7 8 9]] \n",
      "\n",
      "(0,0): 1\n",
      "(0,1): 2\n",
      "(1,0): 4\n",
      "(2,2): 9\n"
     ]
    }
   ],
   "source": [
    "a1=np.arange(1,10)\n",
    "a2=a1.reshape(3,3)\n",
    "print('a2:\\n',a2,'\\n')\n",
    "\n",
    "print(f'(0,0): {a2[0,0]}')\n",
    "print(f'(0,1): {a2[0,1]}')\n",
    "print(f'(1,0): {a2[1,0]}')\n",
    "print(f'(2,2): {a2[2,2]}')"
   ]
  },
  {
   "cell_type": "code",
   "execution_count": 65,
   "metadata": {},
   "outputs": [
    {
     "name": "stdout",
     "output_type": "stream",
     "text": [
      "a2[[0,1],2] -> [3, 6]\n",
      "\n",
      "a2[[0,1],0:2] -> [[1, 2], [4, 5]]\n",
      "\n",
      "a2[[0,1]] -> [[1, 2, 3], [4, 5, 6]]\n"
     ]
    }
   ],
   "source": [
    "#팬시 인덱싱\n",
    "\n",
    "a1=np.arange(1,10)\n",
    "a2=a1.reshape(3,3)\n",
    "\n",
    "a3=a2[[0,1],2]\n",
    "print(f'a2[[0,1],2] -> {a3.tolist()}\\n')\n",
    "\n",
    "a4=a2[[0,1],0:2]\n",
    "print(f'a2[[0,1],0:2] -> {a4.tolist()}\\n')\n",
    "\n",
    "a5=a2[[0,1]]\n",
    "print(f'a2[[0,1]] -> {a5.tolist()}')"
   ]
  },
  {
   "cell_type": "code",
   "execution_count": 66,
   "metadata": {},
   "outputs": [
    {
     "name": "stdout",
     "output_type": "stream",
     "text": [
      "a2\n",
      " [6 7 8 9]\n"
     ]
    }
   ],
   "source": [
    "#불린 인덱싱\n",
    "\n",
    "a1=np.arange(1,10)\n",
    "a2=a1[a1>5]\n",
    "print('a2\\n',a2)"
   ]
  },
  {
   "cell_type": "code",
   "execution_count": 68,
   "metadata": {},
   "outputs": [
    {
     "data": {
      "text/plain": [
       "array([False, False, False, False, False,  True,  True,  True,  True])"
      ]
     },
     "execution_count": 68,
     "metadata": {},
     "output_type": "execute_result"
    }
   ],
   "source": [
    "a1>5"
   ]
  },
  {
   "cell_type": "code",
   "execution_count": 70,
   "metadata": {},
   "outputs": [
    {
     "name": "stdout",
     "output_type": "stream",
     "text": [
      "a3\n",
      " [6 7 8 9]\n"
     ]
    }
   ],
   "source": [
    "index=np.array([5,6,7,8])\n",
    "a3=a1[index]\n",
    "print('a3\\n',a3)"
   ]
  },
  {
   "cell_type": "code",
   "execution_count": null,
   "metadata": {},
   "outputs": [],
   "source": []
  },
  {
   "cell_type": "code",
   "execution_count": null,
   "metadata": {},
   "outputs": [],
   "source": []
  },
  {
   "cell_type": "code",
   "execution_count": null,
   "metadata": {},
   "outputs": [],
   "source": []
  },
  {
   "cell_type": "markdown",
   "metadata": {},
   "source": [
    "행렬의 정렬"
   ]
  },
  {
   "cell_type": "code",
   "execution_count": 78,
   "metadata": {},
   "outputs": [
    {
     "name": "stdout",
     "output_type": "stream",
     "text": [
      "[1 3 5 9] \n",
      "\n",
      "desc: [9 5 3 1] \n",
      "\n",
      "None \n",
      "\n",
      "[1 3 5 9]\n"
     ]
    }
   ],
   "source": [
    "#sort(), argsort()\n",
    "\n",
    "a1=np.array([3,1,9,5])\n",
    "\n",
    "\n",
    "sort_a1=np.sort(a1)\n",
    "print(sort_a1,'\\n')\n",
    "\n",
    "sort_a1_desc=np.sort(a1)[::-1]\n",
    "print('desc:',sort_a1_desc,'\\n')\n",
    "\n",
    "#a1.sort()는 반환값은 None, 기존 array인 a1을 정렬해서 저장\n",
    "sort_a1_2=a1.sort()\n",
    "print(sort_a1_2,'\\n')\n",
    "print(a1)"
   ]
  },
  {
   "cell_type": "code",
   "execution_count": 82,
   "metadata": {},
   "outputs": [
    {
     "name": "stdout",
     "output_type": "stream",
     "text": [
      "sort_a1_axis=0\n",
      " [[ 7  1]\n",
      " [ 8 12]] \n",
      "\n",
      "sort_a1_axis=1\n",
      " [[ 8 12]\n",
      " [ 1  7]]\n"
     ]
    }
   ],
   "source": [
    "#2차원 이상 정렬\n",
    "\n",
    "a1=np.array([[8,12],\n",
    "             [7,1]])\n",
    "\n",
    "sort_a1=np.sort(a1,axis=0) #행 방향 정렬\n",
    "print('sort_a1_axis=0\\n',sort_a1,'\\n')\n",
    "\n",
    "sort_a1_2=np.sort(a1,axis=1) #열 방향 정렬\n",
    "print('sort_a1_axis=1\\n',sort_a1_2)"
   ]
  },
  {
   "cell_type": "code",
   "execution_count": null,
   "metadata": {},
   "outputs": [],
   "source": []
  }
 ],
 "metadata": {
  "kernelspec": {
   "display_name": "Python 3",
   "language": "python",
   "name": "python3"
  },
  "language_info": {
   "codemirror_mode": {
    "name": "ipython",
    "version": 3
   },
   "file_extension": ".py",
   "mimetype": "text/x-python",
   "name": "python",
   "nbconvert_exporter": "python",
   "pygments_lexer": "ipython3",
   "version": "3.7.4"
  }
 },
 "nbformat": 4,
 "nbformat_minor": 2
}
